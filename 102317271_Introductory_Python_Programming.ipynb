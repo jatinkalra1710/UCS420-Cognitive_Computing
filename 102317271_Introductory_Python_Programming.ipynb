{
 "cells": [
  {
   "cell_type": "code",
   "execution_count": 1,
   "id": "8e5ed8b0-94ae-4d63-a3db-c802c247004c",
   "metadata": {},
   "outputs": [
    {
     "name": "stdout",
     "output_type": "stream",
     "text": [
      "Stock Market Crashed Today\n"
     ]
    }
   ],
   "source": [
    "#1\n",
    "print(\"Stock Market Crashed Today\")"
   ]
  },
  {
   "cell_type": "code",
   "execution_count": 2,
   "id": "e15ed563-2765-4526-a51b-12047eef0f51",
   "metadata": {},
   "outputs": [
    {
     "name": "stdin",
     "output_type": "stream",
     "text": [
      "Enter a Number:  15\n",
      "Enter a Number:  10\n"
     ]
    },
    {
     "name": "stdout",
     "output_type": "stream",
     "text": [
      "25\n"
     ]
    }
   ],
   "source": [
    "#2.1\n",
    "a = int(input(\"Enter a Number: \"))\n",
    "b = int(input(\"Enter a Number: \"))\n",
    "print(a+b)"
   ]
  },
  {
   "cell_type": "code",
   "execution_count": 3,
   "id": "6de6e653-ba76-4bce-9a8a-400ce60f1126",
   "metadata": {},
   "outputs": [
    {
     "name": "stdin",
     "output_type": "stream",
     "text": [
      "Enter a String:  Hello\n",
      "Enter a String:  World\n"
     ]
    },
    {
     "name": "stdout",
     "output_type": "stream",
     "text": [
      "HelloWorld\n"
     ]
    }
   ],
   "source": [
    "#2.2\n",
    "a = input(\"Enter a String: \")\n",
    "b = input(\"Enter a String: \")\n",
    "print(a+b)"
   ]
  },
  {
   "cell_type": "code",
   "execution_count": 4,
   "id": "ce3d69eb-2601-4a4f-a0f5-4b37e96bf216",
   "metadata": {},
   "outputs": [
    {
     "name": "stdin",
     "output_type": "stream",
     "text": [
      "Enter a String:  Hello\n",
      "Enter a Number:  6\n"
     ]
    },
    {
     "name": "stdout",
     "output_type": "stream",
     "text": [
      "Hello6\n"
     ]
    }
   ],
   "source": [
    "#2.3\n",
    "a = input(\"Enter a String: \")\n",
    "b = int(input(\"Enter a Number: \"))\n",
    "print(a + str(b))"
   ]
  },
  {
   "cell_type": "code",
   "execution_count": 5,
   "id": "adcd93d4-3f8a-4bdf-8dd1-8f2efe629199",
   "metadata": {},
   "outputs": [
    {
     "name": "stdin",
     "output_type": "stream",
     "text": [
      "Enter a Number:  -5\n"
     ]
    },
    {
     "name": "stdout",
     "output_type": "stream",
     "text": [
      "-ve\n"
     ]
    }
   ],
   "source": [
    "#3.1\n",
    "a = int(input(\"Enter a Number: \"))\n",
    "if(a > 0):\n",
    "    print(\"+ve\")\n",
    "elif(a < 0):\n",
    "    print(\"-ve\")\n",
    "else:\n",
    "    print(\"0\")"
   ]
  },
  {
   "cell_type": "code",
   "execution_count": 6,
   "id": "e0f1096c-f6a1-4e66-9e8b-b74a5cb9bd2e",
   "metadata": {},
   "outputs": [
    {
     "name": "stdin",
     "output_type": "stream",
     "text": [
      "Enter a Number:  51\n"
     ]
    },
    {
     "name": "stdout",
     "output_type": "stream",
     "text": [
      "Odd\n"
     ]
    }
   ],
   "source": [
    "#3.2\n",
    "a = int(input(\"Enter a Number: \"))\n",
    "if(a % 2 == 0):\n",
    "    print(\"Even\")\n",
    "else:\n",
    "    print(\"Odd\")"
   ]
  },
  {
   "cell_type": "code",
   "execution_count": 7,
   "id": "36918bb0-e4ca-4e89-acbf-a14c4065484e",
   "metadata": {},
   "outputs": [
    {
     "name": "stdout",
     "output_type": "stream",
     "text": [
      "1\n",
      "2\n",
      "3\n",
      "4\n",
      "5\n",
      "6\n",
      "7\n",
      "8\n",
      "9\n",
      "10\n"
     ]
    }
   ],
   "source": [
    "#4.1\n",
    "for i in range(1,11,1):\n",
    "    print(i)"
   ]
  },
  {
   "cell_type": "code",
   "execution_count": 8,
   "id": "20a6e31f-2dbd-4326-8283-fd04a4e6a823",
   "metadata": {},
   "outputs": [
    {
     "name": "stdout",
     "output_type": "stream",
     "text": [
      "1\n",
      "2\n",
      "3\n",
      "4\n",
      "5\n",
      "6\n",
      "7\n",
      "8\n",
      "9\n",
      "10\n"
     ]
    }
   ],
   "source": [
    "#4.2\n",
    "i = 1\n",
    "while(i <= 10):\n",
    "    print(i)\n",
    "    i = i + 1"
   ]
  },
  {
   "cell_type": "code",
   "execution_count": 9,
   "id": "c28b711a-cff4-4085-893b-10c339bd4974",
   "metadata": {},
   "outputs": [
    {
     "name": "stdout",
     "output_type": "stream",
     "text": [
      "Sum is:  5050\n"
     ]
    }
   ],
   "source": [
    "#4.3\n",
    "sum = 0\n",
    "for i in range(1,101,1):\n",
    "    sum = sum + i\n",
    "print(\"Sum is: \",sum)"
   ]
  },
  {
   "cell_type": "code",
   "execution_count": 10,
   "id": "d3ab35e7-87a1-4c81-b533-b5c6ede251ab",
   "metadata": {},
   "outputs": [
    {
     "name": "stdout",
     "output_type": "stream",
     "text": [
      "Largest number: 21\n",
      "Smallest number: 3\n"
     ]
    }
   ],
   "source": [
    "#5.1\n",
    "numbers = [12, 5, 9, 21, 3]\n",
    "largest = max(numbers)\n",
    "smallest = min(numbers)\n",
    "print(\"Largest number:\", largest)\n",
    "print(\"Smallest number:\", smallest)"
   ]
  },
  {
   "cell_type": "code",
   "execution_count": 11,
   "id": "46c736fa-259c-4bce-b0ab-bd104a44518f",
   "metadata": {},
   "outputs": [
    {
     "name": "stdin",
     "output_type": "stream",
     "text": [
      "Enter:  LPU\n"
     ]
    },
    {
     "name": "stdout",
     "output_type": "stream",
     "text": [
      "Jalandhar\n"
     ]
    }
   ],
   "source": [
    "#5.2\n",
    "dict= {\"Thapar\":\"Patiala\",\"LPU\":\"Jalandhar\",\"PEC\":\"Chandigarh\"}\n",
    "a = input(\"Enter: \")\n",
    "print(dict.get(a))"
   ]
  },
  {
   "cell_type": "code",
   "execution_count": 12,
   "id": "dd49ba0d-f5b8-43da-bd42-12ffe4623794",
   "metadata": {},
   "outputs": [
    {
     "name": "stdout",
     "output_type": "stream",
     "text": [
      "[3, 5, 9, 12, 21]\n",
      "[21, 12, 9, 5, 3]\n"
     ]
    }
   ],
   "source": [
    "#5.3\n",
    "numbers = [12, 5, 9, 21, 3]\n",
    "numbers.sort()\n",
    "print(numbers)\n",
    "numbers.sort(reverse = True)\n",
    "print(numbers)"
   ]
  },
  {
   "cell_type": "code",
   "execution_count": 13,
   "id": "2c6ab577-e248-4bd4-9166-1afbe1b0d345",
   "metadata": {},
   "outputs": [
    {
     "name": "stdout",
     "output_type": "stream",
     "text": [
      "{'Hello': 5, 'Bye': 3, 'Afternoon': 9, 'Make': 4, 'Cancel': 6}\n"
     ]
    }
   ],
   "source": [
    "#5.4\n",
    "d1={\"Hello\":5,\"Bye\":3,\"Afternoon\":9}\n",
    "d2={\"Make\":4,\"Cancel\":6}\n",
    "d4=d1.copy()\n",
    "for key,value in d2.items():\n",
    "    d4[key]=value\n",
    "print(d4)"
   ]
  },
  {
   "cell_type": "code",
   "execution_count": 14,
   "id": "938e3cba-2749-4a37-8ace-0164c477613e",
   "metadata": {},
   "outputs": [
    {
     "name": "stdout",
     "output_type": "stream",
     "text": [
      "Number of vowels in string is : 18\n"
     ]
    }
   ],
   "source": [
    "#6.1\n",
    "count=0\n",
    "string=\"Hello, I am Doing Assignment 1 of UCS420 Cognitive Computing\"\n",
    "for i in string:\n",
    "    if(i in 'aeiouAEIOU'):\n",
    "        count+=1\n",
    "print(\"Number of vowels in string is :\",count)"
   ]
  },
  {
   "cell_type": "code",
   "execution_count": 15,
   "id": "2a59aab4-2074-48ff-941a-8d3ffd7c4b1f",
   "metadata": {},
   "outputs": [
    {
     "name": "stdout",
     "output_type": "stream",
     "text": [
      "gnitupmoC evitingoC 024SCU fo 1 tnemngissA gnioD ma I ,olleH\n"
     ]
    }
   ],
   "source": [
    "#6.2\n",
    "str = \"Hello, I am Doing Assignment 1 of UCS420 Cognitive Computing\"\n",
    "print(str[::-1])"
   ]
  },
  {
   "cell_type": "code",
   "execution_count": 16,
   "id": "f5941e4a-13f2-44c7-b519-209c73eb1cd6",
   "metadata": {},
   "outputs": [
    {
     "name": "stdout",
     "output_type": "stream",
     "text": [
      "Palindrome\n"
     ]
    }
   ],
   "source": [
    "#6.3\n",
    "str=\"Kanak\"\n",
    "\n",
    "if(str[::-1].lower()==str.lower()):\n",
    "    print(\"Palindrome\")\n",
    "else:\n",
    "    print(\"Not a Palindrome\")"
   ]
  },
  {
   "cell_type": "code",
   "execution_count": 17,
   "id": "778dcf06-528f-4a2f-9b96-46fcb4179a91",
   "metadata": {},
   "outputs": [
    {
     "name": "stdout",
     "output_type": "stream",
     "text": [
      "Hello UCS420\n"
     ]
    }
   ],
   "source": [
    "#7.1\n",
    "file=open(\"file.txt\",\"w\")\n",
    "file.write(\"Hello UCS420\")\n",
    "file=open(\"file.txt\",\"r\")\n",
    "a=file.read()\n",
    "print(a)\n",
    "file.close()"
   ]
  },
  {
   "cell_type": "code",
   "execution_count": 18,
   "id": "376d5f0c-67d0-4975-aab7-417bd4f78390",
   "metadata": {},
   "outputs": [
    {
     "name": "stdout",
     "output_type": "stream",
     "text": [
      "Hello UCS420, Cognitive Computing\n"
     ]
    }
   ],
   "source": [
    "#7.2\n",
    "file=open(\"file.txt\",\"a\")\n",
    "file.write(\", Cognitive Computing\")\n",
    "file=open(\"file.txt\",\"r\")\n",
    "a=file.read()\n",
    "print(a)\n",
    "file.close()"
   ]
  },
  {
   "cell_type": "code",
   "execution_count": 19,
   "id": "d4207515-4b90-4a29-86f3-2e2c4d7e9a63",
   "metadata": {},
   "outputs": [
    {
     "name": "stdout",
     "output_type": "stream",
     "text": [
      "Hello UCS420\n",
      "4th Sem\n",
      "Cognitive Computing\n",
      "\n",
      "Number of lines are:  3\n"
     ]
    }
   ],
   "source": [
    "#7.3\n",
    "file=open(\"file.txt\",\"w\")\n",
    "file.write(\"Hello UCS420\\n4th Sem\\nCognitive Computing\\n\")\n",
    "file=open(\"file.txt\",\"r\")\n",
    "a=file.read()\n",
    "print(a)\n",
    "count=0\n",
    "for i in a:\n",
    "    if(i=='\\n'):\n",
    "        count+=1\n",
    "print(\"Number of lines are: \",count)"
   ]
  },
  {
   "cell_type": "code",
   "execution_count": 20,
   "id": "a8c72b91-b9b6-4413-8ab2-5b2cfc757e18",
   "metadata": {},
   "outputs": [
    {
     "name": "stdout",
     "output_type": "stream",
     "text": [
      "Cant divide by zero\n"
     ]
    }
   ],
   "source": [
    "#8.1\n",
    "a=35\n",
    "b=0\n",
    "try:\n",
    "    print(a/b)\n",
    "except:\n",
    "    print(\"Cant divide by zero\")"
   ]
  },
  {
   "cell_type": "code",
   "execution_count": 21,
   "id": "11ad305b-aa28-4c21-9407-794018dd853a",
   "metadata": {},
   "outputs": [
    {
     "name": "stdin",
     "output_type": "stream",
     "text": [
      "Enter :  Hello\n"
     ]
    },
    {
     "name": "stdout",
     "output_type": "stream",
     "text": [
      "Error:Expected Input in Number\n"
     ]
    }
   ],
   "source": [
    "#8.2\n",
    "try:\n",
    "    x=int(input(\"Enter : \"))\n",
    "except:\n",
    "    print(\"Error:Expected Input in Number\")"
   ]
  },
  {
   "cell_type": "code",
   "execution_count": 22,
   "id": "4e5ac5d7-87ad-4381-bf17-1cb7759d4e52",
   "metadata": {},
   "outputs": [
    {
     "name": "stdout",
     "output_type": "stream",
     "text": [
      "Error: Cannot divide by zero\n",
      "Execution of the finally block\n",
      "Program\n"
     ]
    }
   ],
   "source": [
    "#8.3\n",
    "try:\n",
    "    a = 10\n",
    "    b = 0\n",
    "    c = a / b\n",
    "except ZeroDivisionError:\n",
    "    print(\"Error: Cannot divide by zero\")\n",
    "finally:\n",
    "    print(\"Execution of the finally block\")\n",
    "\n",
    "print(\"Program\")"
   ]
  },
  {
   "cell_type": "code",
   "execution_count": 23,
   "id": "6471074e-505c-42eb-a319-cdf8d64e8771",
   "metadata": {},
   "outputs": [
    {
     "name": "stdout",
     "output_type": "stream",
     "text": [
      "11\n",
      "77\n",
      "43\n",
      "43\n",
      "3\n"
     ]
    }
   ],
   "source": [
    "#9.1\n",
    "import random\n",
    "for i in range(5):\n",
    "    x=random.randint(1,100)\n",
    "    print(x)"
   ]
  },
  {
   "cell_type": "code",
   "execution_count": 24,
   "id": "48d05614-3343-4737-850c-5b15d1b108ce",
   "metadata": {},
   "outputs": [
    {
     "name": "stdout",
     "output_type": "stream",
     "text": [
      "52  is not prime\n"
     ]
    }
   ],
   "source": [
    "#9.2\n",
    "x=random.randint(1,100)\n",
    "flag=True\n",
    "for i in range(2,x):\n",
    "    if(x%i==0):\n",
    "        print(x,\" is not prime\")\n",
    "        flag=False\n",
    "        break\n",
    "\n",
    "if(flag):\n",
    "    print(x,\" is prime\")"
   ]
  },
  {
   "cell_type": "code",
   "execution_count": 25,
   "id": "f3e6e74d-8585-47cc-b952-c07761c73c37",
   "metadata": {},
   "outputs": [
    {
     "name": "stdout",
     "output_type": "stream",
     "text": [
      "3\n"
     ]
    }
   ],
   "source": [
    "#9.3\n",
    "x=random.randint(1,6)\n",
    "print(x)"
   ]
  },
  {
   "cell_type": "code",
   "execution_count": 26,
   "id": "d28f6a8e-73d5-445e-98cc-b0f7b86f8d96",
   "metadata": {},
   "outputs": [
    {
     "name": "stdout",
     "output_type": "stream",
     "text": [
      "[86, 65, 73, 45, 21, 19, 34, 55]\n"
     ]
    }
   ],
   "source": [
    "#9.4\n",
    "list=[19,21,34,45,55,65,73,86]\n",
    "random.shuffle(list)\n",
    "print(list)"
   ]
  },
  {
   "cell_type": "code",
   "execution_count": 27,
   "id": "0e7ed292-a92e-4caa-bf04-99446d1b9b5d",
   "metadata": {},
   "outputs": [
    {
     "name": "stdout",
     "output_type": "stream",
     "text": [
      "19\n"
     ]
    }
   ],
   "source": [
    "#9.5\n",
    "list=[19,21,34,45,55,65,73,86]\n",
    "x=random.randint(0,len(list)-1)\n",
    "print(list[x])"
   ]
  },
  {
   "cell_type": "code",
   "execution_count": 28,
   "id": "ed16ea6a-b036-4306-bfae-236a77670801",
   "metadata": {},
   "outputs": [
    {
     "name": "stdin",
     "output_type": "stream",
     "text": [
      "Enter Length of Password:  9\n"
     ]
    },
    {
     "name": "stdout",
     "output_type": "stream",
     "text": [
      "Generated password: E}ERWLu;x\n"
     ]
    }
   ],
   "source": [
    "#9.6\n",
    "import random\n",
    "import string\n",
    "\n",
    "def generate_password(length):\n",
    "    characters = string.ascii_letters + string.digits + string.punctuation\n",
    "    password = ''.join(random.choice(characters) for i in range(length))\n",
    "    return password\n",
    "\n",
    "# Example usage\n",
    "length = int(input(\"Enter Length of Password: \"))\n",
    "pwd = generate_password(length)\n",
    "print(\"Generated password:\", pwd)"
   ]
  },
  {
   "cell_type": "code",
   "execution_count": 29,
   "id": "1a62f26a-8bb2-427d-90b1-c453fbc32220",
   "metadata": {},
   "outputs": [
    {
     "name": "stdout",
     "output_type": "stream",
     "text": [
      "Randomly picked card: Spades6\n"
     ]
    }
   ],
   "source": [
    "#9.7\n",
    "ranks = ['2', '3', '4', '5', '6', '7', '8', '9', '10', 'J', 'Q', 'K', 'A']\n",
    "suits = ['Hearts', 'Diamonds', 'Clubs', 'Spades']\n",
    "rank = random.choice(ranks)\n",
    "suit = random.choice(suits)\n",
    "card = suit + rank\n",
    "print(\"Randomly picked card:\", card)"
   ]
  },
  {
   "cell_type": "code",
   "execution_count": null,
   "id": "9d655ae7-b157-4b36-80e1-cc86a4d3a43d",
   "metadata": {},
   "outputs": [],
   "source": [
    "#10.1\n",
    "import sys\n",
    "\n",
    "num1 = int(sys.argv[1])\n",
    "num2 = int(sys.argv[2])\n",
    "result = num1 + num2\n",
    "print(\"The sum is: \",result)"
   ]
  },
  {
   "cell_type": "code",
   "execution_count": 33,
   "id": "d03badec-9ffc-49b5-8ec6-dee0f82c9510",
   "metadata": {},
   "outputs": [
    {
     "name": "stdout",
     "output_type": "stream",
     "text": [
      "Length :  2\n"
     ]
    }
   ],
   "source": [
    "#10.2\n",
    "import sys\n",
    "str = sys.argv[1]\n",
    "print(\"Length : \",len(str))"
   ]
  },
  {
   "cell_type": "code",
   "execution_count": 35,
   "id": "9a166546-797e-417e-aedd-55d822b25d14",
   "metadata": {},
   "outputs": [
    {
     "name": "stdin",
     "output_type": "stream",
     "text": [
      "Enter a Number 36\n"
     ]
    },
    {
     "name": "stdout",
     "output_type": "stream",
     "text": [
      "Square root of  36  is  6.0\n"
     ]
    }
   ],
   "source": [
    "#11.1\n",
    "import math\n",
    "x=int(input(\"Enter a Number\"))\n",
    "print(\"Square root of \",x,\" is \",math.sqrt(x))"
   ]
  },
  {
   "cell_type": "code",
   "execution_count": 36,
   "id": "51b22ba1-0e7b-47bb-826e-82b768e8433b",
   "metadata": {},
   "outputs": [
    {
     "name": "stdout",
     "output_type": "stream",
     "text": [
      "2025-01-13 17:26:02.792240\n"
     ]
    }
   ],
   "source": [
    "#11.2\n",
    "import datetime\n",
    "date=datetime.datetime.today()\n",
    "print(date)"
   ]
  },
  {
   "cell_type": "code",
   "execution_count": 37,
   "id": "18cfb505-51fe-4a46-8072-cdbef28270b9",
   "metadata": {},
   "outputs": [
    {
     "name": "stdout",
     "output_type": "stream",
     "text": [
      "Files in current directory are:\n",
      "-1.14-windows.xml\n",
      ".android\n",
      ".bash_history\n",
      ".emulator_console_auth_token\n",
      ".gitconfig\n",
      ".gradle\n",
      ".idlerc\n",
      ".ipynb_checkpoints\n",
      ".ipython\n",
      ".jupyter\n",
      ".keras\n",
      ".lesshst\n",
      ".matplotlib\n",
      ".VirtualBox\n",
      ".vscode\n",
      "AndroidStudioProjects\n",
      "ansel\n",
      "AppData\n",
      "Application Data\n",
      "cognitive\n",
      "Contacts\n",
      "Cookies\n",
      "Documents\n",
      "Downloads\n",
      "Favorites\n",
      "file.txt\n",
      "git\n",
      "IntelGraphicsProfiles\n",
      "Links\n",
      "Local Settings\n",
      "Music\n",
      "My Documents\n",
      "NetHood\n",
      "NTUSER.DAT\n",
      "ntuser.dat.LOG1\n",
      "ntuser.dat.LOG2\n",
      "NTUSER.DAT{8fbf9d1e-e089-11ed-a955-1068388f5700}.TxR.0.regtrans-ms\n",
      "NTUSER.DAT{8fbf9d1e-e089-11ed-a955-1068388f5700}.TxR.1.regtrans-ms\n",
      "NTUSER.DAT{8fbf9d1e-e089-11ed-a955-1068388f5700}.TxR.2.regtrans-ms\n",
      "NTUSER.DAT{8fbf9d1e-e089-11ed-a955-1068388f5700}.TxR.blf\n",
      "NTUSER.DAT{8fbf9d1f-e089-11ed-a955-1068388f5700}.TM.blf\n",
      "NTUSER.DAT{8fbf9d1f-e089-11ed-a955-1068388f5700}.TMContainer00000000000000000001.regtrans-ms\n",
      "NTUSER.DAT{8fbf9d1f-e089-11ed-a955-1068388f5700}.TMContainer00000000000000000002.regtrans-ms\n",
      "ntuser.ini\n",
      "OneDrive\n",
      "pandasdir\n",
      "pandasvenv\n",
      "Pictures\n",
      "PrintHood\n",
      "projects\n",
      "Recent\n",
      "rpro.log\n",
      "Saved Games\n",
      "Searches\n",
      "SendTo\n",
      "Start Menu\n",
      "Templates\n",
      "Untitled.ipynb\n",
      "Untitled1.ipynb\n",
      "venv\n",
      "Videos\n"
     ]
    }
   ],
   "source": [
    "#11.3\n",
    "import os\n",
    "files = os.listdir()\n",
    "print(\"Files in current directory are:\")\n",
    "for file in files:\n",
    "    print(file)"
   ]
  }
 ],
 "metadata": {
  "kernelspec": {
   "display_name": "Python 3 (ipykernel)",
   "language": "python",
   "name": "python3"
  },
  "language_info": {
   "codemirror_mode": {
    "name": "ipython",
    "version": 3
   },
   "file_extension": ".py",
   "mimetype": "text/x-python",
   "name": "python",
   "nbconvert_exporter": "python",
   "pygments_lexer": "ipython3",
   "version": "3.11.9"
  }
 },
 "nbformat": 4,
 "nbformat_minor": 5
}
