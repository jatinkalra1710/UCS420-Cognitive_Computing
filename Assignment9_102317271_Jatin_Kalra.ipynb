{
  "nbformat": 4,
  "nbformat_minor": 0,
  "metadata": {
    "colab": {
      "provenance": []
    },
    "kernelspec": {
      "name": "python3",
      "display_name": "Python 3"
    },
    "language_info": {
      "name": "python"
    }
  },
  "cells": [
    {
      "cell_type": "code",
      "execution_count": 1,
      "metadata": {
        "id": "X5ebWJXqfMTJ",
        "colab": {
          "base_uri": "https://localhost:8080/"
        },
        "outputId": "8bbd2d16-0909-4e5b-a7b4-c92b4f34e12f"
      },
      "outputs": [
        {
          "output_type": "stream",
          "name": "stderr",
          "text": [
            "[nltk_data] Downloading package punkt_tab to /root/nltk_data...\n",
            "[nltk_data]   Unzipping tokenizers/punkt_tab.zip.\n",
            "[nltk_data] Downloading package punkt to /root/nltk_data...\n",
            "[nltk_data]   Unzipping tokenizers/punkt.zip.\n",
            "[nltk_data] Downloading package stopwords to /root/nltk_data...\n",
            "[nltk_data]   Unzipping corpora/stopwords.zip.\n",
            "[nltk_data] Downloading package wordnet to /root/nltk_data...\n",
            "[nltk_data] Downloading package omw-1.4 to /root/nltk_data...\n"
          ]
        },
        {
          "output_type": "execute_result",
          "data": {
            "text/plain": [
              "True"
            ]
          },
          "metadata": {},
          "execution_count": 1
        }
      ],
      "source": [
        "import nltk\n",
        "import string\n",
        "from nltk.corpus import stopwords,wordnet\n",
        "from nltk.stem import PorterStemmer, LancasterStemmer, WordNetLemmatizer\n",
        "from nltk.tokenize import word_tokenize,sent_tokenize\n",
        "from nltk.probability import FreqDist\n",
        "import matplotlib.pyplot as plt\n",
        "import nltk\n",
        "import re\n",
        "nltk.download('punkt_tab')\n",
        "nltk.download('punkt')\n",
        "nltk.download('stopwords')\n",
        "nltk.download('wordnet')\n",
        "nltk.download('omw-1.4')"
      ]
    },
    {
      "cell_type": "markdown",
      "source": [
        "\n",
        "\n",
        "Q1. Write a unique paragraph (5-6 sentences) about your favorite topic (e.g., sports,\n",
        "technology, food, books, etc.).\n",
        "1. Convert text to lowercase and remove punctuaƟon.\n",
        "2. Tokenize the text into words and sentences.\n",
        "3. Remove stopwords (using NLTK's stopwords list).\n",
        "4. Display word frequency distribuƟon (excluding stopwords)\n",
        "\n"
      ],
      "metadata": {
        "id": "sBBw0s-ziyr9"
      }
    },
    {
      "cell_type": "code",
      "source": [
        "paragraph = \"\"\" Investing is a strategic approach to growing wealth by allocating funds to assets like stocks, bonds, mutual funds, or real estate. It requires careful analysis of market trends, risk tolerance, and financial goals. Successful investors diversify portfolios, balancing risks and rewards for long-term growth. Patience and discipline are essential, as markets fluctuate over time. Whether through active trading or passive investing, understanding economic indicators and company performance is crucial. The power of compounding helps money grow exponentially, making early investments advantageous. With informed decisions and proper planning, investing can secure financial stability and future prosperity, adapting to evolving market conditions\"\"\""
      ],
      "metadata": {
        "id": "poWDxsaUiyGy"
      },
      "execution_count": 3,
      "outputs": []
    },
    {
      "cell_type": "code",
      "source": [
        "lowerpunc = paragraph.lower().translate(str.maketrans('', '', string.punctuation))\n",
        "lowerpunc"
      ],
      "metadata": {
        "colab": {
          "base_uri": "https://localhost:8080/",
          "height": 87
        },
        "id": "X_7hToqEivs-",
        "outputId": "c2b4d4e5-9399-4b15-b9e9-6eaaac3cb02d"
      },
      "execution_count": 5,
      "outputs": [
        {
          "output_type": "execute_result",
          "data": {
            "text/plain": [
              "' investing is a strategic approach to growing wealth by allocating funds to assets like stocks bonds mutual funds or real estate it requires careful analysis of market trends risk tolerance and financial goals successful investors diversify portfolios balancing risks and rewards for longterm growth patience and discipline are essential as markets fluctuate over time whether through active trading or passive investing understanding economic indicators and company performance is crucial the power of compounding helps money grow exponentially making early investments advantageous with informed decisions and proper planning investing can secure financial stability and future prosperity adapting to evolving market conditions'"
            ],
            "application/vnd.google.colaboratory.intrinsic+json": {
              "type": "string"
            }
          },
          "metadata": {},
          "execution_count": 5
        }
      ]
    },
    {
      "cell_type": "code",
      "source": [
        "sentences = sent_tokenize(lower_nopunct)\n",
        "words = word_tokenize(lower_nopunct)\n",
        "\n",
        "print(\"Tokenized Sentences:\\n\", sentences)\n",
        "print(\"\\nTokenized Words:\\n\", words)\n",
        "\n",
        "stwords = set(stopwords.words('english'))\n",
        "filtered_words = [word for word in words if word not in stwords]\n",
        "\n",
        "print(\"\\nFiltered Words (Stopwords Removed):\\n\", filtered_words)"
      ],
      "metadata": {
        "colab": {
          "base_uri": "https://localhost:8080/"
        },
        "id": "L4RkGYJ5jYYe",
        "outputId": "3aa94048-31a2-4388-b4ff-782179cce2bc"
      },
      "execution_count": 7,
      "outputs": [
        {
          "output_type": "stream",
          "name": "stdout",
          "text": [
            "Tokenized Sentences:\n",
            " [' investing is a strategic approach to growing wealth by allocating funds to assets like stocks bonds mutual funds or real estate it requires careful analysis of market trends risk tolerance and financial goals successful investors diversify portfolios balancing risks and rewards for longterm growth patience and discipline are essential as markets fluctuate over time whether through active trading or passive investing understanding economic indicators and company performance is crucial the power of compounding helps money grow exponentially making early investments advantageous with informed decisions and proper planning investing can secure financial stability and future prosperity adapting to evolving market conditions']\n",
            "\n",
            "Tokenized Words:\n",
            " ['investing', 'is', 'a', 'strategic', 'approach', 'to', 'growing', 'wealth', 'by', 'allocating', 'funds', 'to', 'assets', 'like', 'stocks', 'bonds', 'mutual', 'funds', 'or', 'real', 'estate', 'it', 'requires', 'careful', 'analysis', 'of', 'market', 'trends', 'risk', 'tolerance', 'and', 'financial', 'goals', 'successful', 'investors', 'diversify', 'portfolios', 'balancing', 'risks', 'and', 'rewards', 'for', 'longterm', 'growth', 'patience', 'and', 'discipline', 'are', 'essential', 'as', 'markets', 'fluctuate', 'over', 'time', 'whether', 'through', 'active', 'trading', 'or', 'passive', 'investing', 'understanding', 'economic', 'indicators', 'and', 'company', 'performance', 'is', 'crucial', 'the', 'power', 'of', 'compounding', 'helps', 'money', 'grow', 'exponentially', 'making', 'early', 'investments', 'advantageous', 'with', 'informed', 'decisions', 'and', 'proper', 'planning', 'investing', 'can', 'secure', 'financial', 'stability', 'and', 'future', 'prosperity', 'adapting', 'to', 'evolving', 'market', 'conditions']\n",
            "\n",
            "Filtered Words (Stopwords Removed):\n",
            " ['investing', 'strategic', 'approach', 'growing', 'wealth', 'allocating', 'funds', 'assets', 'like', 'stocks', 'bonds', 'mutual', 'funds', 'real', 'estate', 'requires', 'careful', 'analysis', 'market', 'trends', 'risk', 'tolerance', 'financial', 'goals', 'successful', 'investors', 'diversify', 'portfolios', 'balancing', 'risks', 'rewards', 'longterm', 'growth', 'patience', 'discipline', 'essential', 'markets', 'fluctuate', 'time', 'whether', 'active', 'trading', 'passive', 'investing', 'understanding', 'economic', 'indicators', 'company', 'performance', 'crucial', 'power', 'compounding', 'helps', 'money', 'grow', 'exponentially', 'making', 'early', 'investments', 'advantageous', 'informed', 'decisions', 'proper', 'planning', 'investing', 'secure', 'financial', 'stability', 'future', 'prosperity', 'adapting', 'evolving', 'market', 'conditions']\n"
          ]
        }
      ]
    },
    {
      "cell_type": "code",
      "source": [
        "fdist = FreqDist(filtered_words)\n",
        "print(\"\\nTop 10 Most Common Words:\")\n",
        "for word, freq in fdist.most_common(10):\n",
        "    print(f\"{word}: {freq}\")"
      ],
      "metadata": {
        "colab": {
          "base_uri": "https://localhost:8080/"
        },
        "id": "ykpGPFzRjla5",
        "outputId": "379b7815-0ef3-4d3e-d8ef-d2f14a80cc2c"
      },
      "execution_count": 9,
      "outputs": [
        {
          "output_type": "stream",
          "name": "stdout",
          "text": [
            "\n",
            "Top 10 Most Common Words:\n",
            "investing: 3\n",
            "funds: 2\n",
            "market: 2\n",
            "financial: 2\n",
            "strategic: 1\n",
            "approach: 1\n",
            "growing: 1\n",
            "wealth: 1\n",
            "allocating: 1\n",
            "assets: 1\n"
          ]
        }
      ]
    },
    {
      "cell_type": "code",
      "source": [
        "fdist.plot(10, title=\"Top 10 Word Frequencies (Excluding Stopwords)\")"
      ],
      "metadata": {
        "colab": {
          "base_uri": "https://localhost:8080/",
          "height": 543
        },
        "id": "uvOX3w8Ujwia",
        "outputId": "3530ca8a-0c10-4dbc-bcb2-65f934d200c4"
      },
      "execution_count": 10,
      "outputs": [
        {
          "output_type": "execute_result",
          "data": {
            "text/plain": [
              "<Axes: title={'center': 'Top 10 Word Frequencies (Excluding Stopwords)'}, xlabel='Samples', ylabel='Counts'>"
            ]
          },
          "metadata": {},
          "execution_count": 10
        },
        {
          "output_type": "display_data",
          "data": {
            "text/plain": [
              "<Figure size 640x480 with 1 Axes>"
            ],
            "image/png": "[encoded data removed]"
          },
          "metadata": {}
        }
      ]
    },
    {
      "cell_type": "markdown",
      "source": [
        "Q2: Stemming and LemmaƟzaƟon\n",
        "1. Take the tokenized words from QuesƟon 1 (aŌer stopword removal).\n",
        "2. Apply stemming using NLTK's PorterStemmer and LancasterStemmer.\n",
        "3. Apply lemmaƟzaƟon using NLTK's WordNetLemmaƟzer.\n",
        "4. Compare and display results of both techniques."
      ],
      "metadata": {
        "id": "i8D9FCVOkCEG"
      }
    },
    {
      "cell_type": "code",
      "source": [
        "text = paragraph.lower().translate(str.maketrans('', '', string.punctuation))\n",
        "words = word_tokenize(text)\n",
        "filtered_words = [word for word in words if word not in stopwords.words('english')]\n",
        "\n",
        "\n",
        "\n",
        "porter = PorterStemmer()\n",
        "lancaster = LancasterStemmer()\n",
        "lemmatizer = WordNetLemmatizer()"
      ],
      "metadata": {
        "id": "SEyQfwWuj-Py"
      },
      "execution_count": 12,
      "outputs": []
    },
    {
      "cell_type": "code",
      "source": [
        "print(f\"{'Original':<15}{'Porter Stem':<15}{'Lancaster Stem':<20}{'Lemmatized':<15}\")\n",
        "print(\"-\" * 65)\n",
        "for word in filtered_words:\n",
        "    print(f\"{word:<15}{porter.stem(word):<15}{lancaster.stem(word):<20}{lemmatizer.lemmatize(word):<15}\")"
      ],
      "metadata": {
        "colab": {
          "base_uri": "https://localhost:8080/"
        },
        "id": "RNDH-t7vkGl4",
        "outputId": "13faf7da-896d-45b6-879e-b8643fc3f934"
      },
      "execution_count": 13,
      "outputs": [
        {
          "output_type": "stream",
          "name": "stdout",
          "text": [
            "Original       Porter Stem    Lancaster Stem      Lemmatized     \n",
            "-----------------------------------------------------------------\n",
            "investing      invest         invest              investing      \n",
            "strategic      strateg        strategic           strategic      \n",
            "approach       approach       approach            approach       \n",
            "growing        grow           grow                growing        \n",
            "wealth         wealth         weal                wealth         \n",
            "allocating     alloc          alloc               allocating     \n",
            "funds          fund           fund                fund           \n",
            "assets         asset          asset               asset          \n",
            "like           like           lik                 like           \n",
            "stocks         stock          stock               stock          \n",
            "bonds          bond           bond                bond           \n",
            "mutual         mutual         mut                 mutual         \n",
            "funds          fund           fund                fund           \n",
            "real           real           real                real           \n",
            "estate         estat          est                 estate         \n",
            "requires       requir         requir              requires       \n",
            "careful        care           car                 careful        \n",
            "analysis       analysi        analys              analysis       \n",
            "market         market         market              market         \n",
            "trends         trend          trend               trend          \n",
            "risk           risk           risk                risk           \n",
            "tolerance      toler          tol                 tolerance      \n",
            "financial      financi        fin                 financial      \n",
            "goals          goal           goal                goal           \n",
            "successful     success        success             successful     \n",
            "investors      investor       invest              investor       \n",
            "diversify      diversifi      divers              diversify      \n",
            "portfolios     portfolio      portfolio           portfolio      \n",
            "balancing      balanc         bal                 balancing      \n",
            "risks          risk           risk                risk           \n",
            "rewards        reward         reward              reward         \n",
            "longterm       longterm       longterm            longterm       \n",
            "growth         growth         grow                growth         \n",
            "patience       patienc        paty                patience       \n",
            "discipline     disciplin      disciplin           discipline     \n",
            "essential      essenti        ess                 essential      \n",
            "markets        market         market              market         \n",
            "fluctuate      fluctuat       fluctu              fluctuate      \n",
            "time           time           tim                 time           \n",
            "whether        whether        wheth               whether        \n",
            "active         activ          act                 active         \n",
            "trading        trade          trad                trading        \n",
            "passive        passiv         pass                passive        \n",
            "investing      invest         invest              investing      \n",
            "understanding  understand     understand          understanding  \n",
            "economic       econom         econom              economic       \n",
            "indicators     indic          ind                 indicator      \n",
            "company        compani        company             company        \n",
            "performance    perform        perform             performance    \n",
            "crucial        crucial        cruc                crucial        \n",
            "power          power          pow                 power          \n",
            "compounding    compound       compound            compounding    \n",
            "helps          help           help                help           \n",
            "money          money          money               money          \n",
            "grow           grow           grow                grow           \n",
            "exponentially  exponenti      expon               exponentially  \n",
            "making         make           mak                 making         \n",
            "early          earli          ear                 early          \n",
            "investments    invest         invest              investment     \n",
            "advantageous   advantag       adv                 advantageous   \n",
            "informed       inform         inform              informed       \n",
            "decisions      decis          decid               decision       \n",
            "proper         proper         prop                proper         \n",
            "planning       plan           plan                planning       \n",
            "investing      invest         invest              investing      \n",
            "secure         secur          sec                 secure         \n",
            "financial      financi        fin                 financial      \n",
            "stability      stabil         stabl               stability      \n",
            "future         futur          fut                 future         \n",
            "prosperity     prosper        prosp               prosperity     \n",
            "adapting       adapt          adapt               adapting       \n",
            "evolving       evolv          evolv               evolving       \n",
            "market         market         market              market         \n",
            "conditions     condit         condit              condition      \n"
          ]
        }
      ]
    },
    {
      "cell_type": "markdown",
      "source": [
        "Q3. Regular Expressions and Text Spliƫng\n",
        "1. Take their original text from QuesƟon 1.\n",
        "2. Use regular expressions to:\n",
        "a. Extract all words with more than 5 leƩers.\n",
        "b. Extract all numbers (if any exist in their text).\n",
        "c. Extract all capitalized words.\n",
        "3. Use text spliƫng techniques to:\n",
        "a. Split the text into words containing only alphabets (removing digits and special\n",
        "characters).\n",
        "b. Extract words starƟng with a vowel."
      ],
      "metadata": {
        "id": "k45k4JeMkVu5"
      }
    },
    {
      "cell_type": "code",
      "source": [
        "words5 = re.findall(r'\\b[a-zA-Z]{6,}\\b', paragraph)\n",
        "print(\"Words with more than 5 letters:\\n\", words5)"
      ],
      "metadata": {
        "colab": {
          "base_uri": "https://localhost:8080/"
        },
        "id": "VmCx-hUHkNad",
        "outputId": "0cf12981-a29c-4daf-b3c4-9420749b929f"
      },
      "execution_count": 15,
      "outputs": [
        {
          "output_type": "stream",
          "name": "stdout",
          "text": [
            "Words with more than 5 letters:\n",
            " ['Investing', 'strategic', 'approach', 'growing', 'wealth', 'allocating', 'assets', 'stocks', 'mutual', 'estate', 'requires', 'careful', 'analysis', 'market', 'trends', 'tolerance', 'financial', 'Successful', 'investors', 'diversify', 'portfolios', 'balancing', 'rewards', 'growth', 'Patience', 'discipline', 'essential', 'markets', 'fluctuate', 'Whether', 'through', 'active', 'trading', 'passive', 'investing', 'understanding', 'economic', 'indicators', 'company', 'performance', 'crucial', 'compounding', 'exponentially', 'making', 'investments', 'advantageous', 'informed', 'decisions', 'proper', 'planning', 'investing', 'secure', 'financial', 'stability', 'future', 'prosperity', 'adapting', 'evolving', 'market', 'conditions']\n"
          ]
        }
      ]
    },
    {
      "cell_type": "code",
      "source": [
        "numbers = re.findall(r'\\b\\d+\\b', paragraph)\n",
        "print(\"\\nNumbers in text:\\n\", numbers if numbers else \"No numbers found.\")"
      ],
      "metadata": {
        "colab": {
          "base_uri": "https://localhost:8080/"
        },
        "id": "cCgLaHxWkU9J",
        "outputId": "938b50eb-f66d-4dc0-b99d-d2f165e51c56"
      },
      "execution_count": 16,
      "outputs": [
        {
          "output_type": "stream",
          "name": "stdout",
          "text": [
            "\n",
            "Numbers in text:\n",
            " No numbers found.\n"
          ]
        }
      ]
    },
    {
      "cell_type": "code",
      "source": [
        "capitalized_words = re.findall(r'\\b[A-Z][a-z]*\\b', paragraph)\n",
        "print(\"\\nCapitalized words:\\n\", capitalized_words)"
      ],
      "metadata": {
        "colab": {
          "base_uri": "https://localhost:8080/"
        },
        "id": "cIiBUXfakiOG",
        "outputId": "fcd7e6ec-a956-4536-eb1d-13c239819b69"
      },
      "execution_count": 17,
      "outputs": [
        {
          "output_type": "stream",
          "name": "stdout",
          "text": [
            "\n",
            "Capitalized words:\n",
            " ['Investing', 'It', 'Successful', 'Patience', 'Whether', 'The', 'With']\n"
          ]
        }
      ]
    },
    {
      "cell_type": "code",
      "source": [
        "alphabetic_words = re.findall(r'\\b[a-zA-Z]+\\b', paragraph)\n",
        "print(\"\\nAlphabetic words:\\n\", alphabetic_words)"
      ],
      "metadata": {
        "colab": {
          "base_uri": "https://localhost:8080/"
        },
        "id": "O9rIDzs1kmsy",
        "outputId": "2918f9e2-4d96-4ef0-9ad4-76db87a077c8"
      },
      "execution_count": 18,
      "outputs": [
        {
          "output_type": "stream",
          "name": "stdout",
          "text": [
            "\n",
            "Alphabetic words:\n",
            " ['Investing', 'is', 'a', 'strategic', 'approach', 'to', 'growing', 'wealth', 'by', 'allocating', 'funds', 'to', 'assets', 'like', 'stocks', 'bonds', 'mutual', 'funds', 'or', 'real', 'estate', 'It', 'requires', 'careful', 'analysis', 'of', 'market', 'trends', 'risk', 'tolerance', 'and', 'financial', 'goals', 'Successful', 'investors', 'diversify', 'portfolios', 'balancing', 'risks', 'and', 'rewards', 'for', 'long', 'term', 'growth', 'Patience', 'and', 'discipline', 'are', 'essential', 'as', 'markets', 'fluctuate', 'over', 'time', 'Whether', 'through', 'active', 'trading', 'or', 'passive', 'investing', 'understanding', 'economic', 'indicators', 'and', 'company', 'performance', 'is', 'crucial', 'The', 'power', 'of', 'compounding', 'helps', 'money', 'grow', 'exponentially', 'making', 'early', 'investments', 'advantageous', 'With', 'informed', 'decisions', 'and', 'proper', 'planning', 'investing', 'can', 'secure', 'financial', 'stability', 'and', 'future', 'prosperity', 'adapting', 'to', 'evolving', 'market', 'conditions']\n"
          ]
        }
      ]
    },
    {
      "cell_type": "code",
      "source": [
        "vowel_words = re.findall(r'\\b[aeiouAEIOU][a-zA-Z]*\\b', paragraph)\n",
        "print(\"\\nWords starting with a vowel:\\n\", vowel_words)"
      ],
      "metadata": {
        "colab": {
          "base_uri": "https://localhost:8080/"
        },
        "id": "Ds5twOvdkp0P",
        "outputId": "258dbb74-a60d-4d26-c28c-375babcde763"
      },
      "execution_count": 19,
      "outputs": [
        {
          "output_type": "stream",
          "name": "stdout",
          "text": [
            "\n",
            "Words starting with a vowel:\n",
            " ['Investing', 'is', 'a', 'approach', 'allocating', 'assets', 'or', 'estate', 'It', 'analysis', 'of', 'and', 'investors', 'and', 'and', 'are', 'essential', 'as', 'over', 'active', 'or', 'investing', 'understanding', 'economic', 'indicators', 'and', 'is', 'of', 'exponentially', 'early', 'investments', 'advantageous', 'informed', 'and', 'investing', 'and', 'adapting', 'evolving']\n"
          ]
        }
      ]
    },
    {
      "cell_type": "markdown",
      "source": [
        "Q4. Custom TokenizaƟon & Regex-based Text Cleaning\n",
        "1. Take original text from QuesƟon 1.\n",
        "2. Write a custom tokenizaƟon funcƟon that:\n",
        "a. Removes punctuaƟon and special symbols, but keeps contracƟons (e.g.,\n",
        "\"isn't\" should not be split into \"is\" and \"n't\").\n",
        "b. Handles hyphenated words as a single token (e.g., \"state-of-the-art\" remains\n",
        "a single token).\n",
        "c. Tokenizes numbers separately but keeps decimal numbers intact (e.g., \"3.14\"\n",
        "should remain as is).\n",
        "3. Use Regex SubsƟtuƟons (re.sub) to:\n",
        "a. Replace email addresses with '<EMAIL>' placeholder.\n",
        "b. Replace URLs with '<URL>' placeholder.\n",
        "c. Replace phone numbers (formats: 123-456-7890 or +91 9876543210) with\n",
        "'<PHONE>' placeholder"
      ],
      "metadata": {
        "id": "2Bph7A6zkxgT"
      }
    },
    {
      "cell_type": "code",
      "source": [
        "def customtokenizer(text):\n",
        "    pattern = r\"\"\"\n",
        "        \\b(?:\\d+\\.\\d+|\\d+)\\b                    # Decimal or integer numbers\n",
        "        | \\b\\w+(?:-\\w+)*\\b                      # Words, possibly hyphenated\n",
        "        | \\b\\w+'\\w+\\b                           # Contractions like isn't, don't\n",
        "    \"\"\"\n",
        "    tokens = re.findall(pattern, text, re.VERBOSE)\n",
        "    return tokens"
      ],
      "metadata": {
        "id": "ISzhWl4iksGF"
      },
      "execution_count": 24,
      "outputs": []
    },
    {
      "cell_type": "code",
      "source": [
        "def cleantext(text):\n",
        "    text = re.sub(r'\\b[\\w\\.-]+@[\\w\\.-]+\\.\\w+\\b', '<EMAIL>', text)\n",
        "    text = re.sub(r'https?://\\S+|www\\.\\S+', '<URL>', text)\n",
        "    text = re.sub(r'(\\+?\\d{1,3}[\\s-])?\\d{3}[-\\s]?\\d{3}[-\\s]?\\d{4}', '<PHONE>', text)\n",
        "    return text"
      ],
      "metadata": {
        "id": "6v85U6t5k5Rb"
      },
      "execution_count": 25,
      "outputs": []
    },
    {
      "cell_type": "code",
      "source": [
        "cleanpara = cleantext(paragraph)\n",
        "custtokens = customtokenizer(cleanpara)\n",
        "print(\"Cleaned Text:\\n\", cleanpara)\n",
        "print(\"\\nCustom Tokens:\\n\", custtokens)"
      ],
      "metadata": {
        "colab": {
          "base_uri": "https://localhost:8080/"
        },
        "id": "SDM8RIOHlDOs",
        "outputId": "bb0c0134-18b8-4204-90b6-f6cbac7d5e4a"
      },
      "execution_count": 29,
      "outputs": [
        {
          "output_type": "stream",
          "name": "stdout",
          "text": [
            "Cleaned Text:\n",
            "  Investing is a strategic approach to growing wealth by allocating funds to assets like stocks, bonds, mutual funds, or real estate. It requires careful analysis of market trends, risk tolerance, and financial goals. Successful investors diversify portfolios, balancing risks and rewards for long-term growth. Patience and discipline are essential, as markets fluctuate over time. Whether through active trading or passive investing, understanding economic indicators and company performance is crucial. The power of compounding helps money grow exponentially, making early investments advantageous. With informed decisions and proper planning, investing can secure financial stability and future prosperity, adapting to evolving market conditions\n",
            "\n",
            "Custom Tokens:\n",
            " ['Investing', 'is', 'a', 'strategic', 'approach', 'to', 'growing', 'wealth', 'by', 'allocating', 'funds', 'to', 'assets', 'like', 'stocks', 'bonds', 'mutual', 'funds', 'or', 'real', 'estate', 'It', 'requires', 'careful', 'analysis', 'of', 'market', 'trends', 'risk', 'tolerance', 'and', 'financial', 'goals', 'Successful', 'investors', 'diversify', 'portfolios', 'balancing', 'risks', 'and', 'rewards', 'for', 'long-term', 'growth', 'Patience', 'and', 'discipline', 'are', 'essential', 'as', 'markets', 'fluctuate', 'over', 'time', 'Whether', 'through', 'active', 'trading', 'or', 'passive', 'investing', 'understanding', 'economic', 'indicators', 'and', 'company', 'performance', 'is', 'crucial', 'The', 'power', 'of', 'compounding', 'helps', 'money', 'grow', 'exponentially', 'making', 'early', 'investments', 'advantageous', 'With', 'informed', 'decisions', 'and', 'proper', 'planning', 'investing', 'can', 'secure', 'financial', 'stability', 'and', 'future', 'prosperity', 'adapting', 'to', 'evolving', 'market', 'conditions']\n"
          ]
        }
      ]
    },
    {
      "cell_type": "code",
      "source": [],
      "metadata": {
        "id": "q1AIE8B6lMz3"
      },
      "execution_count": null,
      "outputs": []
    }
  ]
}